{
 "cells": [
  {
   "cell_type": "markdown",
   "metadata": {},
   "source": [
    "# LINMA1702 modèles et méthodes d'optimisation\n",
    "# Projet 2020-2021 : Logistique de la vaccination en Belgique\n",
    "### Groupe 6 : Théau Lepouttre, Eliott Van Dieren et Nicolas Mil-Homens Cavaco\n"
   ]
  },
  {
   "cell_type": "code",
   "execution_count": 23,
   "metadata": {},
   "outputs": [],
   "source": [
    "import numpy as np\n",
    "import matplotlib.pyplot as plt\n",
    "from mip import *"
   ]
  },
  {
   "cell_type": "markdown",
   "metadata": {},
   "source": [
    "Question 1.1\n",
    "\n",
    "Soit les variables suivantes,\n",
    "\n",
    "* $x \\equiv$ le nombre de doses qui arrivent au centre de vaccination; \n",
    "* $y_i \\equiv$ le nombre de doses administrées à la classe d'âge $i$;\n",
    "\n",
    "contraintes par les paramètres suivants,\n",
    "\n",
    "* $b_l \\equiv$ le nombre maximal de vaccins livrés par jour;\n",
    "* $b_v \\equiv$ le nombre maximal de vaccins administrés par jour;\n",
    "* $c_t \\equiv$ le coût de transport;\n",
    "* $c_v \\equiv$ le coût de vaccination;\n",
    "* $c_{tot} \\equiv$ le budget total disponible;\n",
    "* $n_s \\equiv$ le nombre de personnes susceptibles;\n",
    "* $n_{nv} \\equiv$ le nombre de personnes qui ne veulent pas se faire vacciner. \n",
    "\n",
    "Puisque dans un premier temps, on suppose que le stockage des vaccins est impossible, la totalité de vaccins livrés doivent être administrés ou doivent être jetés, c'est-à-dire que $x \\geq y$.\n",
    "\n",
    "Le problème s'écrit donc\n",
    "\n",
    "$$\\begin{eqnarray*}\n",
    "\\max_{x, y\\ \\in \\mathbb{R}^m}& 1^T y & \\\\\n",
    "x - 1^T y &\\geq& 0 \\\\\n",
    "c_t\\ x + c_v 1^T  y &\\leq& c_{tot} \\\\\n",
    "x &\\leq& b_l \\\\\n",
    "1^T y &\\leq&\\ b_v \\\\\n",
    "y_i &\\leq& (n_s)_i - (n_{nv})_i \\\\\n",
    "x,\\ y &\\geq& 0\n",
    "\\end{eqnarray*}$$"
   ]
  },
  {
   "cell_type": "code",
   "execution_count": 25,
   "metadata": {},
   "outputs": [
    {
     "name": "stdout",
     "output_type": "stream",
     "text": [
      "x = 50.0\n",
      "y = [19.0, 19.0, 12.0, 0.0, 0.0, 0.0]\n",
      "f(x,y) = 50.0\n"
     ]
    }
   ],
   "source": [
    "# Données du problème\n",
    "m     = 6    # nombre de classes d'âge\n",
    "c_t   = 1    # Prix de livraison d'un vaccin\n",
    "c_v   = 1    # prix d'administration d'un vaccin\n",
    "c_tot = 100  # budget total autorisé\n",
    "b_l   = 100  # nombre maximal de vaccins livrés par jour\n",
    "b_v   = 150  # nombre maximal de vaccins administrés par jour\n",
    "\n",
    "n_s   = np.ones(m) * 20    # nombre de personnes suceptibles dans chaque classe d'âge\n",
    "n_nv  = np.ones(m) * 1     # nombre de personnes ne voulant pas être vaccinées dans chaque classe d'âge\n",
    "\n",
    "\n",
    "model = Model('centre unique', sense=MAXIMIZE, solver_name=CBC)\n",
    "\n",
    "# Variables\n",
    "x = model.add_var(var_type=INTEGER, lb=0)                               \n",
    "y = np.array([model.add_var(var_type=INTEGER, lb=0) for i in range(m)])\n",
    "\n",
    "# Objectif\n",
    "model.objective = maximize(xsum(y))\n",
    "\n",
    "# Contraintes\n",
    "model += c_t * x + xsum(c_v * y) <= c_tot\n",
    "model += x - xsum(y) >= 0\n",
    "model += x <= b_l\n",
    "model += xsum(y) <= b_v\n",
    "for i in range(m):\n",
    "    model += y[i] <= n_s[i] - n_nv[i]\n",
    "\n",
    "model.optimize()\n",
    "\n",
    "print(f\"x = {x.x}\")\n",
    "print(f\"y = {[y[i].x for i in range(m)]}\")\n",
    "print(f\"f(x,y) = {model.objective_value}\")"
   ]
  },
  {
   "cell_type": "code",
   "execution_count": null,
   "metadata": {},
   "outputs": [],
   "source": []
  }
 ],
 "metadata": {
  "kernelspec": {
   "display_name": "Python 3",
   "language": "python",
   "name": "python3"
  },
  "language_info": {
   "codemirror_mode": {
    "name": "ipython",
    "version": 3
   },
   "file_extension": ".py",
   "mimetype": "text/x-python",
   "name": "python",
   "nbconvert_exporter": "python",
   "pygments_lexer": "ipython3",
   "version": "3.7.8"
  }
 },
 "nbformat": 4,
 "nbformat_minor": 4
}
