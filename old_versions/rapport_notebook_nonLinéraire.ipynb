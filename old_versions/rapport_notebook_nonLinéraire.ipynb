{
 "cells": [
  {
   "cell_type": "markdown",
   "metadata": {},
   "source": [
    "# LINMA1702 modèles et méthodes d'optimisation\n",
    "# Projet 2020-2021 : Logistique de la vaccination en Belgique\n",
    "### Groupe 6 : Théau Lepouttre, Eliott Van Dieren et Nicolas Mil-Homens Cavaco\n"
   ]
  },
  {
   "cell_type": "code",
   "execution_count": 2,
   "metadata": {},
   "outputs": [],
   "source": [
    "import numpy as np\n",
    "import matplotlib.pyplot as plt\n",
    "from mip import *"
   ]
  },
  {
   "cell_type": "markdown",
   "metadata": {},
   "source": [
    "### Hypothèses\n",
    "\n",
    "On considère un certaine population répartie en $m$ classes d'âge dans $n$ provinces en Belgique.\n",
    "Parmi les personnes constituant cette population, on distingue $2$ parties disjointes:\n",
    "\n",
    "* les personnes susceptibles \n",
    "* les autres, c'est-à-dire les malades, les vaccinés, les guéris et les morts.\n",
    "    \n",
    "On suppose cette population comme constante dans le temps.\n",
    "Notre objectif est de minimiser le nombre de morts dû à l'épidémie.\n",
    "\n",
    "Notre seul moyen d'action direct est de vacciner les personnes afin de diminuer la taille de la population des susceptibles. \n",
    "\n",
    "Sous ces hypothèses, On considère que les $2$ objectifs suivant sont équivalents:\n",
    "* minimiser le nombre de mort \n",
    "* maximiser la vaccination des personnes les plus susceptibles de tomber malade et de mourir.\n",
    "\n",
    "\n"
   ]
  },
  {
   "cell_type": "markdown",
   "metadata": {},
   "source": [
    "### Question 1.1\n",
    "\n",
    "Dans ce premier modèle, on considère le cas d'un seul centre ($n=1$).\n",
    "En outre, le stockage des vaccins n'est pas autorisé.\n",
    "On suppose également que la durée de la campagne de vaccination s'étant sur une durée de $T$ jours.\n",
    "\n",
    "Soit les variables suivantes\n",
    "\n",
    "* $x^t \\equiv$ le nombre de doses qui arrivent au centre de vaccination au temps $t$; \n",
    "* $y_i^t \\equiv$ le nombre de doses administrées à la classe d'âge $i$ au temps $t$;\n",
    "\n",
    "contraintes par les paramètres suivants,\n",
    "\n",
    "* $b_c^t \\equiv$ le nombre de vaccins livrés dans l'entrepôt central;\n",
    "* $b_l^t \\equiv$ le nombre maximal de vaccins livrés au temps $t$;\n",
    "* $b_v^t \\equiv$ le nombre maximal de vaccins administrés au temps $t$;\n",
    "* $c_{tr} \\equiv$ le coût de transport;\n",
    "* $c_v \\equiv$ le coût de vaccination;\n",
    "* $c_{tot} \\equiv$ le budget total disponible;\n",
    "\n",
    "Soit \n",
    "\n",
    "* $\\lambda_i^t \\equiv$ la fraction parmi les personnes susceptibles tombant malade au jour $t$ pour la classe $i$.\n",
    "* $\\varepsilon_i^t \\equiv$ la fraction parmi les personnes malades qui décèdent au jour $t$ pour la classe $i$.\n",
    "* $\\mu_i \\equiv$ la fraction de population disposée et autorisée à se faire vacciner\n",
    "\n",
    "\n",
    "* $(n_s)_i^t = (n_s)_i^0 - (n_m)_i^t - \\sum_{k=1}^t y_i^k\\equiv$ le nombre de personnes susceptibles parmi les personnes de la classe $i$ au temps $t$;\n",
    "* $(n_m)_i^t = \\sum_{k=1}^t \\lambda_i^k\\ (n_s)_i^k \\equiv$ le nombre total de personnes malades pour un classe $i$ au temps $t$\n",
    "\n",
    "On identifie les contraintes suivantes:\n",
    "* Le budget total de la campagne de vaccination est limité.\n",
    "* Le total de vaccins administrés au temps $t$ ne peut pas dépasser le nombre total de vaccins livrés la veille, et ce sur toute la durée de la campagne.\n",
    "* Le nombre de vaccins livrés est limité chaque jour par le nombre de vaccins disponibles dans l'entrepôt central.\n",
    "* Le nombre de vaccins livrés est limité chaque jour par la limite du centre de vaccination.\n",
    "* Le nombre de vaccins administrés est limité chaque jour.\n",
    "* Seules les personnes disposées et autorisées peuvent se faire vacciner (18+ et consentant). \n",
    "\n",
    "Finalement, on prend la convention que $x^0 = 0 = x^T$, en d'autre terme aucun vaccin n'a été livré la veille du début de la campagne ou ne doit être livré le dernier jour.\n",
    "\n",
    "Le problème s'écrit donc\n",
    "\n",
    "$$\\begin{eqnarray*}\n",
    "\\max_{x, y}& \\sum_{t=1}^{T} \\sum_{i=1}^{m}  \\varepsilon_i^t\\ (n_m)_i^t\\ y_i^t & \\\\\n",
    "\\sum_{t=1}^T \\left(c_{tr}\\ x^t + c_v \\sum_{i=1}^{m} y_i^t\\right) &\\leq& c_{tot} \\\\\n",
    "x^{t-1} - \\sum_{i=1}^{m} y_i^t &\\geq& 0 \\qquad t \\in \\{2, \\ldots, T\\}\\\\\n",
    "x^{t} &\\leq & b_c^t \\\\  \n",
    "x^t &\\leq& b_l^t \\\\\n",
    "\\sum_{i=1}^{m} y_i^t &\\leq&\\ b_v^t \\\\\n",
    "y_i^t &\\leq& \\mu_i\\ (n_s)_i^t \\\\ %(n_s)_i^t - (n_{nv})_i^t \\\\\n",
    "x,\\ y &\\geq& 0\n",
    "\\end{eqnarray*}$$"
   ]
  },
  {
   "cell_type": "code",
   "execution_count": 3,
   "metadata": {},
   "outputs": [],
   "source": [
    "# Données du problème\n",
    "\n",
    "T = 350               # durée de la campagne\n",
    "m = 5                 # nombre de classes d'âge : [Young, Adult, Senior, Old, Centenarian]\n",
    "c_tr  = 0             # Prix de livraison d'un vaccin\n",
    "c_v   = 15            # prix d'administration d'un vaccin\n",
    "c_tot = 100e6         # budget total autorisé\n",
    "b_l   = float(\"inf\")  # nombre maximal de vaccins livrés par jour\n",
    "b_v   = 14646         # nombre maximal de vaccins administrés par jour\n",
    "\n",
    "# nombre de personnes susceptibles dans chaque classe d'âge\n",
    "n_s   = [3778123, 2846993, 2790883, 1390502, 111533]   \n",
    "\n",
    "lambda_t = lambda t: np.array([0.000298 * (1/5 + np.sin(t/50-1/5)**2),\n",
    "                               0.000301 * (1/5 + np.sin(t/50)**2),\n",
    "                               0.000204 * (1/5 + np.sin(t/50-1/5)**2),\n",
    "                               0.000209 * (1/5 + np.sin(t/50-2/5)**2),\n",
    "                               0.000329 * (1/5 + np.sin(t/50-2/5)**2)])\n",
    "\n",
    "epsilon_t = lambda t: np.array([0.000100 * (6/5-t/1000),\n",
    "                                0.000400 * (6/5-t/1000), \n",
    "                                0.005790 * (6/5-t/1000), \n",
    "                                0.027179 * (6/5-t/1000),\n",
    "                                0.150000 * (6/5-t/1000)])\n",
    "\n",
    "mu  = np.array([0.3, 0.6, 0.7, 0.9, 0.9])     # proportion de la population disposée à se faire vacciner.\n",
    "\n",
    "b_c = np.zeros(T);\n",
    "days = np.arange(1, T+1)\n",
    "b_c_eff =  [80000, 80000,60000, 60000, 40000, 40000, 40000, 40000, 60000,60000,60000,60000,80000,80000,80000,\n",
    "            80000,100000,100000,100000,100000,100000,100000,100000,100000,120000,120000,120000,120000,120000,\n",
    "            120000,120000,120000,120000,120000,120000,120000,150000,150000,150000,150000,150000,150000,150000,\n",
    "            150000,150000,150000,150000,150000,150000,150000]\n",
    "\n",
    "for t in days-1:\n",
    "    if(t % 7 == 0):\n",
    "        b_c[t] = b_c_eff[t//7]\n",
    "        \n",
    "_lambda  = lambda_t(days)\n",
    "_epsilon = epsilon_t(days)\n"
   ]
  },
  {
   "cell_type": "code",
   "execution_count": 4,
   "metadata": {},
   "outputs": [
    {
     "name": "stdout",
     "output_type": "stream",
     "text": [
      "f(x,y) = 3919513.2205291297\n"
     ]
    }
   ],
   "source": [
    "# Résolution du problème\n",
    "model = Model('centre unique', sense=MAXIMIZE, solver_name=CBC)\n",
    "\n",
    "# Variables\n",
    "x = np.array( [model.add_var(var_type=INTEGER, lb=0) for t in days-1])\n",
    "y = np.array([[model.add_var(var_type=INTEGER, lb=0) for t in days-1] for i in range(m)])\n",
    "\n",
    "# Objectif\n",
    "model.objective = maximize(xsum(_epsilon[i,t] *_lambda[i,t] * n_s[i] * y[i,t] for i in range(m) for t in days-1))\n",
    "\n",
    "# Contraintes\n",
    "model += xsum(c_tr * x) + xsum(c_v * y[i,t] for i in range(m) for t in days-1) <= c_tot\n",
    "for t in days-1:\n",
    "    if t > 1: \n",
    "        model += x[t-1] - xsum(y[:,t]) >= 0\n",
    "    model += x[t] <= b_c[t]\n",
    "    model += xsum(y[:,t]) <= b_v\n",
    "    for i in range(m):\n",
    "        model += y[i,t] <= mu[i] * n_s[i]\n",
    "\n",
    "model.optimize()\n",
    "\n",
    "# print(f\"x = {[x[t].x for t in days-1]}\")\n",
    "# print(\"\\n\")\n",
    "# print(f\"y = {[[y[i,t].x for i in range(m)] for t in days-1]}\")\n",
    "print(f\"f(x,y) = {model.objective_value}\")"
   ]
  },
  {
   "cell_type": "code",
   "execution_count": 5,
   "metadata": {},
   "outputs": [
    {
     "data": {
      "image/png": "[encoded data removed]",
      "text/plain": [
       "<Figure size 432x288 with 1 Axes>"
      ]
     },
     "metadata": {
      "needs_background": "light"
     },
     "output_type": "display_data"
    },
    {
     "data": {
      "image/png": "[encoded data removed]",
      "text/plain": [
       "<Figure size 432x288 with 1 Axes>"
      ]
     },
     "metadata": {
      "needs_background": "light"
     },
     "output_type": "display_data"
    },
    {
     "data": {
      "image/png": "[encoded data removed]",
      "text/plain": [
       "<Figure size 432x288 with 1 Axes>"
      ]
     },
     "metadata": {
      "needs_background": "light"
     },
     "output_type": "display_data"
    },
    {
     "data": {
      "image/png": "[encoded data removed]",
      "text/plain": [
       "<Figure size 432x288 with 1 Axes>"
      ]
     },
     "metadata": {
      "needs_background": "light"
     },
     "output_type": "display_data"
    },
    {
     "data": {
      "image/png": "[encoded data removed]",
      "text/plain": [
       "<Figure size 432x288 with 1 Axes>"
      ]
     },
     "metadata": {
      "needs_background": "light"
     },
     "output_type": "display_data"
    }
   ],
   "source": [
    "# Plot des résultats\n",
    "population  = [\"Young 0-29 ans\", \"Adult 30-49 ans\", \"Senior 50-69 ans\", \"Old 70-89 ans\", \"Centenarian 90-   ans\"]\n",
    "livraisons  = [x[t].x for t in days-1]\n",
    "vaccination = [[y[i,t].x for t in days-1] for i in range(m)]\n",
    "\n",
    "# Titres\n",
    "titres = [f\"{population[i]}\" for i in range(m)]\n",
    "\n",
    "plt.figure(\"Question 1.1\")\n",
    "for i in range(5):\n",
    "        plt.title(titres[i])\n",
    "        markerline, stemlines, baseline = plt.stem(days, vaccination[i])\n",
    "        \n",
    "        plt.xlabel(\"$t$ [jour]\", fontsize=10)\n",
    "        plt.ylabel(\"personnes vaccinées\", fontsize=10)\n",
    "\n",
    "        baseline.set_color('k')\n",
    "        baseline.set_linewidth(1)\n",
    "\n",
    "        markerline.set_markersize(1)\n",
    "        plt.grid()\n",
    "        plt.show()\n"
   ]
  },
  {
   "cell_type": "markdown",
   "metadata": {},
   "source": [
    "### Question 1.2\n",
    "\n",
    "On considère à présent le cas de $n$ provinces. Dans le cas de la Belgique, on aura $n=10$.\n",
    "On autorise également le stockage des vaccins dans les centres.\n",
    "\n",
    "Par rapport au modèle précédent, on introduit \n",
    "* $z_j^t \\equiv$ le nombre de vaccins stockés au temps $t$ dans le centre de la province $j$, variable. Ces vaccins ne sont donc pas administrés au jour $t$.\n",
    "* $(c_s)_j \\equiv$ le coût associé au stockage d'un vaccin dans le centre $j$, connu.\n",
    "\n",
    "Outre les contraintes identifiées plus haut, on ajoute le fait que le nombre de vaccins administrés au temps $t$ ne peut dépasser le nombre de vaccins livrés la veille et ceux en stocks la veille également.\n",
    "\n",
    "Finalement, puisqu'on suppose que chaque province $j$ subit l'épidémie de manière indépendante, les contraintes sont propres à chacune, excepté la contrainte de coût total.\n",
    "\n",
    "Le problème s'écrit donc\n",
    "\n",
    "$$\\begin{eqnarray*}\n",
    "\\max_{x, y, z}& \\sum_{t=1}^{T} \\sum_{i=1}^{m} \\sum_{j=1}^{n} \\varepsilon_{ij}^t\\ (n_m)_{ij}^t\\ y_{ij}^t & \\\\\n",
    "\\sum_{t=1}^T \\sum_{j=1}^{n} \\left(c_{tr}\\ x_j^t + c_v \\sum_{i=1}^{m} y_{ij}^t + c_s z_j^t\\right) &\\leq& c_{tot} \\\\\n",
    "x_j^{t-1} + z_j^{t-1} - \\sum_{i=1}^{m} y_{ij}^t &\\geq& 0 \\\\\n",
    "\\sum_{j=1}^n x_j^{t} &\\leq & b_c^t \\\\ \n",
    "x_j^t &\\leq& (b_l)_j^t \\\\\n",
    "\\sum_{i=1}^{m} y_{ij}^t &\\leq&\\ (b_v)_j^t \\\\\n",
    "y_{ij}^t &\\leq& \\mu_{ij}^t\\ (n_m)_{ij}^t \\\\\n",
    "x,\\ y,\\ z &\\geq& 0\n",
    "\\end{eqnarray*}$$"
   ]
  },
  {
   "cell_type": "code",
   "execution_count": null,
   "metadata": {},
   "outputs": [],
   "source": []
  }
 ],
 "metadata": {
  "kernelspec": {
   "display_name": "Python 3",
   "language": "python",
   "name": "python3"
  },
  "language_info": {
   "codemirror_mode": {
    "name": "ipython",
    "version": 3
   },
   "file_extension": ".py",
   "mimetype": "text/x-python",
   "name": "python",
   "nbconvert_exporter": "python",
   "pygments_lexer": "ipython3",
   "version": "3.7.8"
  }
 },
 "nbformat": 4,
 "nbformat_minor": 4
}
